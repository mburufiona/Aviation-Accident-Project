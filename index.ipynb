{
 "cells": [
  {
   "cell_type": "markdown",
   "metadata": {},
   "source": [
    "# Aviation Accident Analysis"
   ]
  },
  {
   "cell_type": "markdown",
   "metadata": {},
   "source": [
    "![Airplane](images/pexels-pixabay-358319.jpg)"
   ]
  },
  {
   "cell_type": "markdown",
   "metadata": {},
   "source": [
    "### Overview\n",
    "Our company is launching a new airline division that is focused on buying \n",
    "and operating airplanes for commercial and private enterprises.\n",
    "I was tasked with analysing the aviation accident data from 1919 to 2023\n",
    "to find the safest and lowest-risk models for our first fleet purchase"
   ]
  },
  {
   "cell_type": "markdown",
   "metadata": {},
   "source": [
    "![plane](images/pexels-pixabay-163792.jpg)"
   ]
  },
  {
   "cell_type": "markdown",
   "metadata": {},
   "source": [
    "### Project Goal\n",
    "The goal of this project is to examine aviation accident data from 1919 to 2023 to measure and rank safety risks. We will gather and study this data to identify the most dangerous operators and aircraft types. e will use those findings to recommend the safest models for the company's initial fleet purchase.\n"
   ]
  },
  {
   "cell_type": "markdown",
   "metadata": {},
   "source": [
    "![nightplane](images/pexels-pixabay-99567.jpg)"
   ]
  },
  {
   "cell_type": "markdown",
   "metadata": {},
   "source": [
    "### Business Problem\n",
    "Our company is launching a new division that is focused on buying and operating airplanes for commercial and private enterprises. Since we lack experience in this area, my goal is to reduce risks associated with this venture. I am examining aviation accident data from 1919 to 2023 to find the safest and lowest-risk aircraft models for our first fleet purchase. I will turn my findings into actionable insights for the head of the new aviation division to use.\n",
    "\n"
   ]
  },
  {
   "cell_type": "markdown",
   "metadata": {},
   "source": [
    "#### Objectives\n",
    "- *Analyse highest & lowest fatality count caused by each type of aircraft*\n",
    "\n",
    "- *Analyse the highest & lowest fatality rate of each operator*\n",
    "\n",
    "- *Analyse countries that are at high risk ofhaving accidents*"
   ]
  },
  {
   "cell_type": "markdown",
   "metadata": {},
   "source": [
    "## Data Loading\n"
   ]
  },
  {
   "cell_type": "code",
   "execution_count": 2,
   "metadata": {},
   "outputs": [],
   "source": [
    "# Importing standard library packages\n",
    "import pandas as pd\n",
    "import numpy as np\n",
    "import matplotlib.pyplot as plt\n",
    "import seaborn as sns"
   ]
  },
  {
   "cell_type": "code",
   "execution_count": 3,
   "metadata": {},
   "outputs": [
    {
     "data": {
      "text/html": [
       "<div>\n",
       "<style scoped>\n",
       "    .dataframe tbody tr th:only-of-type {\n",
       "        vertical-align: middle;\n",
       "    }\n",
       "\n",
       "    .dataframe tbody tr th {\n",
       "        vertical-align: top;\n",
       "    }\n",
       "\n",
       "    .dataframe thead th {\n",
       "        text-align: right;\n",
       "    }\n",
       "</style>\n",
       "<table border=\"1\" class=\"dataframe\">\n",
       "  <thead>\n",
       "    <tr style=\"text-align: right;\">\n",
       "      <th></th>\n",
       "      <th>date</th>\n",
       "      <th>type</th>\n",
       "      <th>registration</th>\n",
       "      <th>operator</th>\n",
       "      <th>fatalities</th>\n",
       "      <th>location</th>\n",
       "      <th>country</th>\n",
       "      <th>cat</th>\n",
       "      <th>year</th>\n",
       "    </tr>\n",
       "  </thead>\n",
       "  <tbody>\n",
       "    <tr>\n",
       "      <th>0</th>\n",
       "      <td>date unk.</td>\n",
       "      <td>Antonov An-12B</td>\n",
       "      <td>T-1206</td>\n",
       "      <td>Indonesian AF</td>\n",
       "      <td>NaN</td>\n",
       "      <td>NaN</td>\n",
       "      <td>Unknown country</td>\n",
       "      <td>U1</td>\n",
       "      <td>unknown</td>\n",
       "    </tr>\n",
       "    <tr>\n",
       "      <th>1</th>\n",
       "      <td>date unk.</td>\n",
       "      <td>Antonov An-12B</td>\n",
       "      <td>T-1204</td>\n",
       "      <td>Indonesian AF</td>\n",
       "      <td>NaN</td>\n",
       "      <td>NaN</td>\n",
       "      <td>Unknown country</td>\n",
       "      <td>U1</td>\n",
       "      <td>unknown</td>\n",
       "    </tr>\n",
       "    <tr>\n",
       "      <th>2</th>\n",
       "      <td>date unk.</td>\n",
       "      <td>Antonov An-12B</td>\n",
       "      <td>T-1201</td>\n",
       "      <td>Indonesian AF</td>\n",
       "      <td>NaN</td>\n",
       "      <td>NaN</td>\n",
       "      <td>Unknown country</td>\n",
       "      <td>U1</td>\n",
       "      <td>unknown</td>\n",
       "    </tr>\n",
       "    <tr>\n",
       "      <th>3</th>\n",
       "      <td>date unk.</td>\n",
       "      <td>Antonov An-12BK</td>\n",
       "      <td>NaN</td>\n",
       "      <td>Soviet AF</td>\n",
       "      <td>NaN</td>\n",
       "      <td>Tiksi Airport (IKS)</td>\n",
       "      <td>Russia</td>\n",
       "      <td>A1</td>\n",
       "      <td>unknown</td>\n",
       "    </tr>\n",
       "    <tr>\n",
       "      <th>4</th>\n",
       "      <td>date unk.</td>\n",
       "      <td>Antonov An-12BP</td>\n",
       "      <td>CCCP-11815</td>\n",
       "      <td>Soviet AF</td>\n",
       "      <td>0</td>\n",
       "      <td>Massawa Airport ...</td>\n",
       "      <td>Eritrea</td>\n",
       "      <td>A1</td>\n",
       "      <td>unknown</td>\n",
       "    </tr>\n",
       "  </tbody>\n",
       "</table>\n",
       "</div>"
      ],
      "text/plain": [
       "        date             type registration       operator fatalities  \\\n",
       "0  date unk.   Antonov An-12B       T-1206  Indonesian AF        NaN   \n",
       "1  date unk.   Antonov An-12B       T-1204  Indonesian AF        NaN   \n",
       "2  date unk.   Antonov An-12B       T-1201  Indonesian AF        NaN   \n",
       "3  date unk.  Antonov An-12BK          NaN      Soviet AF        NaN   \n",
       "4  date unk.  Antonov An-12BP   CCCP-11815      Soviet AF          0   \n",
       "\n",
       "              location          country cat     year  \n",
       "0                  NaN  Unknown country  U1  unknown  \n",
       "1                  NaN  Unknown country  U1  unknown  \n",
       "2                  NaN  Unknown country  U1  unknown  \n",
       "3  Tiksi Airport (IKS)           Russia  A1  unknown  \n",
       "4  Massawa Airport ...          Eritrea  A1  unknown  "
      ]
     },
     "execution_count": 3,
     "metadata": {},
     "output_type": "execute_result"
    }
   ],
   "source": [
    "# loading the dataset\n",
    "df = pd.read_csv('aviation-accident-data-2023-05-16.csv')\n",
    "df.head()"
   ]
  },
  {
   "cell_type": "code",
   "execution_count": 4,
   "metadata": {},
   "outputs": [
    {
     "data": {
      "text/plain": [
       "pandas.core.frame.DataFrame"
      ]
     },
     "execution_count": 4,
     "metadata": {},
     "output_type": "execute_result"
    }
   ],
   "source": [
    "# checking the type of the datset\n",
    "type(df)"
   ]
  },
  {
   "cell_type": "code",
   "execution_count": 5,
   "metadata": {},
   "outputs": [
    {
     "name": "stdout",
     "output_type": "stream",
     "text": [
      "<class 'pandas.core.frame.DataFrame'>\n",
      "RangeIndex: 23967 entries, 0 to 23966\n",
      "Data columns (total 9 columns):\n",
      " #   Column        Non-Null Count  Dtype \n",
      "---  ------        --------------  ----- \n",
      " 0   date          23967 non-null  object\n",
      " 1   type          23967 non-null  object\n",
      " 2   registration  22419 non-null  object\n",
      " 3   operator      23963 non-null  object\n",
      " 4   fatalities    20029 non-null  object\n",
      " 5   location      23019 non-null  object\n",
      " 6   country       23967 non-null  object\n",
      " 7   cat           23967 non-null  object\n",
      " 8   year          23967 non-null  object\n",
      "dtypes: object(9)\n",
      "memory usage: 1.6+ MB\n"
     ]
    }
   ],
   "source": [
    "# displays information of the dataset\n",
    "df.info()"
   ]
  },
  {
   "cell_type": "markdown",
   "metadata": {},
   "source": [
    "## Data Cleaning\n",
    "In data cleaning, I check for duplicated files and drop them, and then I check for columns that have missing values. If data happens to be missing, the percentage of missing data is calculated inorder to know if the data can be filled or  the column should be dropped."
   ]
  },
  {
   "cell_type": "markdown",
   "metadata": {},
   "source": [
    "### Check and remove duplicated values"
   ]
  },
  {
   "cell_type": "code",
   "execution_count": 59,
   "metadata": {},
   "outputs": [
    {
     "data": {
      "text/html": [
       "<div>\n",
       "<style scoped>\n",
       "    .dataframe tbody tr th:only-of-type {\n",
       "        vertical-align: middle;\n",
       "    }\n",
       "\n",
       "    .dataframe tbody tr th {\n",
       "        vertical-align: top;\n",
       "    }\n",
       "\n",
       "    .dataframe thead th {\n",
       "        text-align: right;\n",
       "    }\n",
       "</style>\n",
       "<table border=\"1\" class=\"dataframe\">\n",
       "  <thead>\n",
       "    <tr style=\"text-align: right;\">\n",
       "      <th></th>\n",
       "      <th>date</th>\n",
       "      <th>type</th>\n",
       "      <th>registration</th>\n",
       "      <th>operator</th>\n",
       "      <th>fatalities</th>\n",
       "      <th>location</th>\n",
       "      <th>country</th>\n",
       "      <th>cat</th>\n",
       "      <th>year</th>\n",
       "    </tr>\n",
       "  </thead>\n",
       "  <tbody>\n",
       "    <tr>\n",
       "      <th>708</th>\n",
       "      <td>10-MAY-1940</td>\n",
       "      <td>Junkers Ju-52/3m</td>\n",
       "      <td>LZ-...</td>\n",
       "      <td>German AF</td>\n",
       "      <td>0.0</td>\n",
       "      <td>Rijksweg 13</td>\n",
       "      <td>Netherlands</td>\n",
       "      <td>A1</td>\n",
       "      <td>1940</td>\n",
       "    </tr>\n",
       "  </tbody>\n",
       "</table>\n",
       "</div>"
      ],
      "text/plain": [
       "            date              type registration   operator  fatalities  \\\n",
       "708  10-MAY-1940  Junkers Ju-52/3m       LZ-...  German AF         0.0   \n",
       "\n",
       "        location      country cat  year  \n",
       "708  Rijksweg 13  Netherlands  A1  1940  "
      ]
     },
     "execution_count": 59,
     "metadata": {},
     "output_type": "execute_result"
    }
   ],
   "source": [
    "# checks the first 10 duplicated values\n",
    "df[df.duplicated()].head(20)"
   ]
  },
  {
   "cell_type": "code",
   "execution_count": 7,
   "metadata": {},
   "outputs": [
    {
     "data": {
      "text/plain": [
       "False    23852\n",
       "True       115\n",
       "Name: count, dtype: int64"
      ]
     },
     "execution_count": 7,
     "metadata": {},
     "output_type": "execute_result"
    }
   ],
   "source": [
    "# this checks the number of duplicated values(True) and non-duplicates(False)\n",
    "df.duplicated().value_counts()"
   ]
  },
  {
   "cell_type": "code",
   "execution_count": 8,
   "metadata": {},
   "outputs": [],
   "source": [
    "# Dropping all duplicated values\n",
    "df = df.drop_duplicates()"
   ]
  },
  {
   "cell_type": "code",
   "execution_count": 9,
   "metadata": {},
   "outputs": [
    {
     "data": {
      "text/plain": [
       "False    23852\n",
       "Name: count, dtype: int64"
      ]
     },
     "execution_count": 9,
     "metadata": {},
     "output_type": "execute_result"
    }
   ],
   "source": [
    "# confirming all duplicates have been dropped\n",
    "df.duplicated().value_counts()"
   ]
  },
  {
   "cell_type": "markdown",
   "metadata": {},
   "source": [
    "#### Check for missing values"
   ]
  },
  {
   "cell_type": "code",
   "execution_count": 10,
   "metadata": {},
   "outputs": [
    {
     "data": {
      "text/plain": [
       "date               0\n",
       "type               0\n",
       "registration    1434\n",
       "operator           4\n",
       "fatalities      3833\n",
       "location         932\n",
       "country            0\n",
       "cat                0\n",
       "year               0\n",
       "dtype: int64"
      ]
     },
     "execution_count": 10,
     "metadata": {},
     "output_type": "execute_result"
    }
   ],
   "source": [
    "# Displays all columns and which of them have missing values.\n",
    "df.isna().sum()"
   ]
  },
  {
   "cell_type": "markdown",
   "metadata": {},
   "source": [
    "### Check the present values percentage"
   ]
  },
  {
   "cell_type": "markdown",
   "metadata": {},
   "source": [
    "In this section, we are checking for the percentage of present values in each column, so that we can determine if they could be filled or they are to be dropped."
   ]
  },
  {
   "cell_type": "code",
   "execution_count": 11,
   "metadata": {},
   "outputs": [
    {
     "data": {
      "text/plain": [
       "93.54111903867818"
      ]
     },
     "execution_count": 11,
     "metadata": {},
     "output_type": "execute_result"
    }
   ],
   "source": [
    "percentage_registration = 22419/23967 * 100\n",
    "percentage_registration"
   ]
  },
  {
   "cell_type": "code",
   "execution_count": 12,
   "metadata": {},
   "outputs": [
    {
     "data": {
      "text/plain": [
       "99.98331038511287"
      ]
     },
     "execution_count": 12,
     "metadata": {},
     "output_type": "execute_result"
    }
   ],
   "source": [
    "percentage_operator = 23963/23967 * 100\n",
    "percentage_operator"
   ]
  },
  {
   "cell_type": "code",
   "execution_count": 13,
   "metadata": {},
   "outputs": [
    {
     "data": {
      "text/plain": [
       "83.56907414361415"
      ]
     },
     "execution_count": 13,
     "metadata": {},
     "output_type": "execute_result"
    }
   ],
   "source": [
    "percentage_fatalities = 20029/23967 * 100\n",
    "percentage_fatalities"
   ]
  },
  {
   "cell_type": "code",
   "execution_count": 14,
   "metadata": {},
   "outputs": [
    {
     "data": {
      "text/plain": [
       "96.04456127174865"
      ]
     },
     "execution_count": 14,
     "metadata": {},
     "output_type": "execute_result"
    }
   ],
   "source": [
    "percentage_location = 23019/23967 * 100\n",
    "percentage_location"
   ]
  },
  {
   "cell_type": "markdown",
   "metadata": {},
   "source": [
    "### Displaying and filling missing values\n",
    "Here we check for missing values and decide which is the best way to fill the data, for numerical data, median and mean is used while for categorical data, mode is used."
   ]
  },
  {
   "cell_type": "code",
   "execution_count": 15,
   "metadata": {},
   "outputs": [
    {
     "data": {
      "text/plain": [
       "fatalities\n",
       "0         10705\n",
       "2          1117\n",
       "1          1005\n",
       "3           968\n",
       "4           873\n",
       "          ...  \n",
       "135+ 7        1\n",
       "77+ 1         1\n",
       "1+ 32         1\n",
       "271+ 2        1\n",
       "50+ 3         1\n",
       "Name: count, Length: 369, dtype: int64"
      ]
     },
     "execution_count": 15,
     "metadata": {},
     "output_type": "execute_result"
    }
   ],
   "source": [
    "df['fatalities'].value_counts()"
   ]
  },
  {
   "cell_type": "code",
   "execution_count": 16,
   "metadata": {},
   "outputs": [],
   "source": [
    "# converting strings to numbers\n",
    "def stringtonum(x):\n",
    "    if pd.isna(x):\n",
    "        return None\n",
    "    x = str(x)\n",
    "    if '+' in x:\n",
    "        return int(x.split('+')[0])\n",
    "    else:\n",
    "        return int(float(x))"
   ]
  },
  {
   "cell_type": "code",
   "execution_count": 17,
   "metadata": {},
   "outputs": [],
   "source": [
    "# replaces all the strings in the fatalities columns to integers\n",
    "df['fatalities'] = df['fatalities'].apply(stringtonum)"
   ]
  },
  {
   "cell_type": "code",
   "execution_count": 18,
   "metadata": {},
   "outputs": [
    {
     "data": {
      "image/png": "[encoded data removed]",
      "text/plain": [
       "<Figure size 640x480 with 1 Axes>"
      ]
     },
     "metadata": {},
     "output_type": "display_data"
    }
   ],
   "source": [
    "# fatalities histogram to check if it is symmetrical or skewed\n",
    "plt.hist(df['fatalities'], bins=20)\n",
    "plt.title('Fatalities in aviation accidents')\n",
    "plt.xlabel('No of fatalities')\n",
    "plt.ylabel('frequency')\n",
    "plt.show()"
   ]
  },
  {
   "cell_type": "code",
   "execution_count": 19,
   "metadata": {},
   "outputs": [
    {
     "data": {
      "text/plain": [
       "fatalities\n",
       "0.0      10799\n",
       "2.0       1140\n",
       "1.0       1023\n",
       "3.0        995\n",
       "4.0        892\n",
       "         ...  \n",
       "134.0        1\n",
       "256.0        1\n",
       "290.0        1\n",
       "259.0        1\n",
       "224.0        1\n",
       "Name: count, Length: 197, dtype: int64"
      ]
     },
     "execution_count": 19,
     "metadata": {},
     "output_type": "execute_result"
    }
   ],
   "source": [
    "# Displays unique items in the fatalities column\n",
    "df['fatalities'].value_counts()"
   ]
  },
  {
   "cell_type": "code",
   "execution_count": 20,
   "metadata": {},
   "outputs": [
    {
     "data": {
      "text/plain": [
       "0.0"
      ]
     },
     "execution_count": 20,
     "metadata": {},
     "output_type": "execute_result"
    }
   ],
   "source": [
    "# calculates and stores the median in the fatalities_median variable\n",
    "fatalities_median = df['fatalities'].median()\n",
    "fatalities_median"
   ]
  },
  {
   "cell_type": "code",
   "execution_count": 21,
   "metadata": {},
   "outputs": [],
   "source": [
    "# replaces all missing values with the median value\n",
    "df['fatalities'] = df['fatalities'].fillna(fatalities_median)"
   ]
  },
  {
   "cell_type": "code",
   "execution_count": 22,
   "metadata": {},
   "outputs": [
    {
     "data": {
      "text/plain": [
       "date               0\n",
       "type               0\n",
       "registration    1434\n",
       "operator           4\n",
       "fatalities         0\n",
       "location         932\n",
       "country            0\n",
       "cat                0\n",
       "year               0\n",
       "dtype: int64"
      ]
     },
     "execution_count": 22,
     "metadata": {},
     "output_type": "execute_result"
    }
   ],
   "source": [
    "# confirms that fatalities has been filled.\n",
    "df.isna().sum()"
   ]
  },
  {
   "cell_type": "code",
   "execution_count": 23,
   "metadata": {},
   "outputs": [
    {
     "data": {
      "text/plain": [
       "registration\n",
       "LZ-...     13\n",
       "-          11\n",
       "unreg.      6\n",
       "39          5\n",
       "48          4\n",
       "           ..\n",
       "52-5881     1\n",
       "HJ250       1\n",
       "11073       1\n",
       "45-879      1\n",
       "D-CGFQ      1\n",
       "Name: count, Length: 21962, dtype: int64"
      ]
     },
     "execution_count": 23,
     "metadata": {},
     "output_type": "execute_result"
    }
   ],
   "source": [
    "# Displays all unique values in the registration column\n",
    "df['registration'].value_counts()"
   ]
  },
  {
   "cell_type": "code",
   "execution_count": 24,
   "metadata": {},
   "outputs": [
    {
     "data": {
      "text/plain": [
       "'LZ-...'"
      ]
     },
     "execution_count": 24,
     "metadata": {},
     "output_type": "execute_result"
    }
   ],
   "source": [
    "# calculates and stores the mode in reg_mode variable\n",
    "reg_mode = df['registration'].mode()[0]\n",
    "reg_mode"
   ]
  },
  {
   "cell_type": "code",
   "execution_count": 25,
   "metadata": {},
   "outputs": [],
   "source": [
    "# replaces all missing values with the mode\n",
    "df['registration'] = df['registration'].fillna(reg_mode)"
   ]
  },
  {
   "cell_type": "code",
   "execution_count": 26,
   "metadata": {},
   "outputs": [
    {
     "data": {
      "text/plain": [
       "date              0\n",
       "type              0\n",
       "registration      0\n",
       "operator          4\n",
       "fatalities        0\n",
       "location        932\n",
       "country           0\n",
       "cat               0\n",
       "year              0\n",
       "dtype: int64"
      ]
     },
     "execution_count": 26,
     "metadata": {},
     "output_type": "execute_result"
    }
   ],
   "source": [
    "# confirms the missing values have been filled\n",
    "df.isna().sum()"
   ]
  },
  {
   "cell_type": "code",
   "execution_count": 27,
   "metadata": {},
   "outputs": [
    {
     "data": {
      "text/plain": [
       "location\n",
       "unknown                272\n",
       "Havana-JosÃ© Mar...    105\n",
       "Miami Internatio...     71\n",
       "Beirut Internati...     48\n",
       "New York-John F....     44\n",
       "                      ... \n",
       "near Damroh              1\n",
       "Puerto Columbia          1\n",
       "Moskva-Khodynka ...      1\n",
       "near Byelaya Noch        1\n",
       "Hohn Air Base            1\n",
       "Name: count, Length: 14608, dtype: int64"
      ]
     },
     "execution_count": 27,
     "metadata": {},
     "output_type": "execute_result"
    }
   ],
   "source": [
    "# displays unique values in the location column\n",
    "df['location'].value_counts()"
   ]
  },
  {
   "cell_type": "code",
   "execution_count": 28,
   "metadata": {},
   "outputs": [
    {
     "data": {
      "text/plain": [
       "'unknown'"
      ]
     },
     "execution_count": 28,
     "metadata": {},
     "output_type": "execute_result"
    }
   ],
   "source": [
    "# calculates and stores the mode in the location_mode variable\n",
    "location_mode = df['location'].mode()[0]\n",
    "location_mode"
   ]
  },
  {
   "cell_type": "code",
   "execution_count": 29,
   "metadata": {},
   "outputs": [],
   "source": [
    "# replaces the missing values with the mode\n",
    "df['location'] = df['location'].fillna(location_mode)"
   ]
  },
  {
   "cell_type": "code",
   "execution_count": 30,
   "metadata": {},
   "outputs": [
    {
     "data": {
      "text/plain": [
       "date            0\n",
       "type            0\n",
       "registration    0\n",
       "operator        4\n",
       "fatalities      0\n",
       "location        0\n",
       "country         0\n",
       "cat             0\n",
       "year            0\n",
       "dtype: int64"
      ]
     },
     "execution_count": 30,
     "metadata": {},
     "output_type": "execute_result"
    }
   ],
   "source": [
    "# confirms missing values are filled\n",
    "df.isna().sum()"
   ]
  },
  {
   "cell_type": "code",
   "execution_count": 31,
   "metadata": {},
   "outputs": [
    {
     "data": {
      "text/plain": [
       "operator\n",
       "USAAF                          2604\n",
       "USAF                           1118\n",
       "RAF                             920\n",
       "US Navy                         745\n",
       "German AF                       411\n",
       "                               ... \n",
       "BAFIN                             1\n",
       "Dow Chemical Company              1\n",
       "Aero Bellavista                   1\n",
       "Pacific Missionary Aviation       1\n",
       "Bar Aviation                      1\n",
       "Name: count, Length: 6017, dtype: int64"
      ]
     },
     "execution_count": 31,
     "metadata": {},
     "output_type": "execute_result"
    }
   ],
   "source": [
    "# displays unique values in the operator column\n",
    "df['operator'].value_counts()"
   ]
  },
  {
   "cell_type": "code",
   "execution_count": 32,
   "metadata": {},
   "outputs": [
    {
     "data": {
      "text/plain": [
       "'USAAF'"
      ]
     },
     "execution_count": 32,
     "metadata": {},
     "output_type": "execute_result"
    }
   ],
   "source": [
    "# calculates and stores the mode in the operator_mode variable\n",
    "operator_mode = df['operator'].mode()[0]\n",
    "operator_mode"
   ]
  },
  {
   "cell_type": "code",
   "execution_count": 33,
   "metadata": {},
   "outputs": [],
   "source": [
    "# fills the missing values with the mode\n",
    "df['operator'] = df['operator'].fillna(operator_mode)"
   ]
  },
  {
   "cell_type": "code",
   "execution_count": 34,
   "metadata": {},
   "outputs": [
    {
     "data": {
      "text/plain": [
       "date            0\n",
       "type            0\n",
       "registration    0\n",
       "operator        0\n",
       "fatalities      0\n",
       "location        0\n",
       "country         0\n",
       "cat             0\n",
       "year            0\n",
       "dtype: int64"
      ]
     },
     "execution_count": 34,
     "metadata": {},
     "output_type": "execute_result"
    }
   ],
   "source": [
    "# confirms all missing values have been replaced\n",
    "df.isna().sum()"
   ]
  },
  {
   "cell_type": "code",
   "execution_count": 35,
   "metadata": {},
   "outputs": [],
   "source": [
    "# saves the clean dataset.\n",
    "df.to_csv('clean-aviation-accident-data.csv', index=False)"
   ]
  },
  {
   "cell_type": "markdown",
   "metadata": {},
   "source": [
    "# Data Analysis"
   ]
  },
  {
   "cell_type": "markdown",
   "metadata": {},
   "source": [
    "### Highest fatality count by aircraft type\n",
    "This analysis tells us which aircraft type has the highest fatality rate. By identifying this, this report gives the company the necessary data for the company to make the safest decision that will benefit both the comapny and he clients."
   ]
  },
  {
   "cell_type": "code",
   "execution_count": 60,
   "metadata": {},
   "outputs": [
    {
     "data": {
      "image/png": "[encoded data removed]",
      "text/plain": [
       "<Figure size 640x480 with 1 Axes>"
      ]
     },
     "metadata": {},
     "output_type": "display_data"
    }
   ],
   "source": [
    "# groups all fatalities by aircraft type and sums all fatalities for each type\n",
    "aircrafttype_accidents= df.groupby('type')['fatalities'].sum().reset_index()\n",
    "High_accident = aircrafttype_accidents.sort_values(by='fatalities', ascending=False).head(10)\n",
    "\n",
    "\n",
    "# use seaborn to plot \n",
    "sns.barplot(\n",
    "    x = 'fatalities',\n",
    "    y = 'type',\n",
    "    data= High_accident\n",
    ")\n",
    "plt.title('Aircraft type by fatality rate')\n",
    "plt.xticks(rotation = 45)\n",
    "plt.show()"
   ]
  },
  {
   "cell_type": "markdown",
   "metadata": {},
   "source": [
    "### Lowest fatality count by aircraft type\n",
    "This analysis tells us the safest aircraft types that have a fatality count lower or equal to 5. It shows us the safest aircrafts to pick that will be necessary for our company's and clients safety. "
   ]
  },
  {
   "cell_type": "code",
   "execution_count": 21,
   "id": "13163011",
   "metadata": {},
   "outputs": [
    {
     "data": {
      "image/png": "[encoded data removed]",
      "text/plain": [
       "<Figure size 432x288 with 1 Axes>"
      ]
     },
     "metadata": {
      "needs_background": "light"
     },
     "output_type": "display_data"
    }
   ],
   "source": [
    "#low_accident_df = df[df['fatalities'] == 0]\n",
    "\n",
    "safe_aircraft_types = df.groupby('type').size().reset_index(name='Low_Fatality_Count')\n",
    "\n",
    "safe_aircraft_types = safe_aircraft_types[safe_aircraft_types['Low_Fatality_Count']<=5].sort_values(\n",
    "    by='Low_Fatality_Count', ascending=True\n",
    ").head()\n",
    "\n",
    "\n",
    "sns.barplot(\n",
    "    x='Low_Fatality_Count',\n",
    "    y='type',\n",
    "    data= safe_aircraft_types\n",
    ")\n",
    "plt.title('Safe Aircraft models')\n",
    "plt.xticks(rotation=45)\n",
    "plt.show()\n",
    "\n",
    "\n"
   ]
  },
  {
   "cell_type": "markdown",
   "id": "c1606341",
   "metadata": {},
   "source": [
    "### Highest fatality count by operator\n",
    "This analysis shows the top operators involved in the highest fatalities. This is crucial for our company when looking for operators as we will look for clients whose safety records are not of risk, ensuring they are not a liability."
   ]
  },
  {
   "cell_type": "code",
   "execution_count": 62,
   "id": "377b48db",
   "metadata": {},
   "outputs": [
    {
     "data": {
      "image/png": "[encoded data removed]",
      "text/plain": [
       "<Figure size 640x480 with 1 Axes>"
      ]
     },
     "metadata": {},
     "output_type": "display_data"
    }
   ],
   "source": [
    "# groups all fatalities and operators and sums all fatalities with each operator\n",
    "operator_fatalities = df.groupby('operator')['fatalities'].sum()\n",
    "\n",
    "top_fatal_operators = operator_fatalities.sort_values(ascending=False).head(5)\n",
    "\n",
    "# use matplotlib to plot\n",
    "plt.bar(top_fatal_operators.index, top_fatal_operators.values)\n",
    "plt.title('Top operators involved in highest fatalities count')\n",
    "plt.xlabel('operator')\n",
    "plt.ylabel('Total Fatalities')\n",
    "plt.show()"
   ]
  },
  {
   "cell_type": "markdown",
   "id": "4c41fe42",
   "metadata": {},
   "source": [
    "# Lowest fatality count by Operators\n",
    "This analysis helps us filter the safest operators by picking the operators with less than 5 fatalities. They are of the lowest risk to the company and clients."
   ]
  },
  {
   "cell_type": "code",
   "execution_count": 61,
   "id": "34f61cf4",
   "metadata": {},
   "outputs": [
    {
     "data": {
      "image/png": "[encoded data removed]",
      "text/plain": [
       "<Figure size 640x480 with 1 Axes>"
      ]
     },
     "metadata": {},
     "output_type": "display_data"
    }
   ],
   "source": [
    "# groups all fatalities and operators and sums all fatalities with each operator.\n",
    "safest_operators = df.groupby('operator')['fatalities'].sum().reset_index(name='Safe_operators')\n",
    "# filters and sorts to only show operators with less than 5 fatalities.\n",
    "top_fatal_operators = safest_operators[safest_operators['Safe_operators']< 5].sort_values(by= 'Safe_operators',\n",
    "                                                                    ascending=False).head(5)\n",
    "\n",
    "# use matplotlib to plot\n",
    "plt.bar(top_fatal_operators['operator'], top_fatal_operators['Safe_operators'])\n",
    "plt.title('Top 5 operators involved in lowest fatalities count')\n",
    "plt.xlabel('operator')\n",
    "plt.ylabel('Total Fatalities')\n",
    "plt.xticks(rotation=45)\n",
    "plt.show()"
   ]
  },
  {
   "cell_type": "markdown",
   "id": "0374b8e0",
   "metadata": {},
   "source": [
    "### High risk countries\n",
    "This analysis shows the country that are at high risk of having accidents. This is important cause it tells the company which countries are safer and which countries need a greater safety approach when travelling there."
   ]
  },
  {
   "cell_type": "code",
   "execution_count": 19,
   "id": "ece4b34e",
   "metadata": {},
   "outputs": [
    {
     "data": {
      "image/png": "[encoded data removed]",
      "text/plain": [
       "<Figure size 432x288 with 1 Axes>"
      ]
     },
     "metadata": {
      "needs_background": "light"
     },
     "output_type": "display_data"
    }
   ],
   "source": [
    "# group all countries and accident_count and sum all accidents in each country\n",
    "country_fatality_count= df.groupby('country').size().reset_index(name='accident_count')\n",
    "high_risk_countries = country_fatality_count.sort_values(by='accident_count', ascending=False).head()\n",
    "\n",
    "sns.barplot(\n",
    "    x= 'accident_count',\n",
    "    y= 'country',\n",
    "    data= high_risk_countries\n",
    ")\n",
    "plt.title('Countries by Accident count ')\n",
    "plt.xticks(rotation= 90)\n",
    "plt.show()"
   ]
  },
  {
   "cell_type": "markdown",
   "metadata": {},
   "source": [
    "## Conclusion\n",
    "This analysis shows us that the aviation industry is a risky endeavour. We have decided to exlude the Douglas C-47A (DC-3) as it has the biggest risk to our company. The high-risk countries show areas that need closer examination like the USA, which may have alot of operational activity, hence the rise in accident rates. Finally the operator analysis gives us a safety benchmark that gives direction to our company in which operators are suited."
   ]
  },
  {
   "cell_type": "markdown",
   "metadata": {},
   "source": [
    "## Recommendation\n",
    "- **Safe-Aircraft-Purchase:**\n",
    "The Douglas C-47A(DC-3) should not be considered when purchasing aircrafts, since it carries the highest fatality count and therefore will be a risk to the company and our clients. The company should look into the aircrafts with the lowest fatality count as they are the safer bet for the new airline division.\n",
    "\n",
    "- **Low-risk-Operators:**\n",
    "The company should prioritize operators that have the lowest fatality rates cause they are less risky than the operators who have high fatality counts.\n",
    "\n",
    "- **Safety-measures-for-high-risk-countries:**\n",
    "We should look for more safety measures when operating in countries that are at high risk of having airplane accidents instead of exluding them. This is cause they may have more flights therefore may be prone to more airline accidents\n",
    "\n"
   ]
  }
 ],
 "metadata": {
  "kernelspec": {
   "display_name": "Python 3",
   "language": "python",
   "name": "python3"
  },
  "language_info": {
   "codemirror_mode": {
    "name": "ipython",
    "version": 3
   },
   "file_extension": ".py",
   "mimetype": "text/x-python",
   "name": "python",
   "nbconvert_exporter": "python",
   "pygments_lexer": "ipython3",
   "version": "3.8.5"
  }
 },
 "nbformat": 4,
 "nbformat_minor": 5
}
