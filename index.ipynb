{
 "cells": [
  {
   "cell_type": "markdown",
   "id": "12092f7f",
   "metadata": {},
   "source": [
    "# Aviation Accident Analysis"
   ]
  },
  {
   "cell_type": "markdown",
   "id": "d5788333",
   "metadata": {},
   "source": [
    "## Data Loading\n"
   ]
  },
  {
   "cell_type": "code",
   "execution_count": 128,
   "id": "d35ac55b",
   "metadata": {},
   "outputs": [],
   "source": [
    "# Importing standard library packages\n",
    "import pandas as pd\n",
    "import numpy as np\n",
    "import matplotlib.pyplot as plt\n",
    "import seaborn as sns"
   ]
  },
  {
   "cell_type": "code",
   "execution_count": null,
   "id": "91c7a97b",
   "metadata": {},
   "outputs": [
    {
     "data": {
      "text/html": [
       "<div>\n",
       "<style scoped>\n",
       "    .dataframe tbody tr th:only-of-type {\n",
       "        vertical-align: middle;\n",
       "    }\n",
       "\n",
       "    .dataframe tbody tr th {\n",
       "        vertical-align: top;\n",
       "    }\n",
       "\n",
       "    .dataframe thead th {\n",
       "        text-align: right;\n",
       "    }\n",
       "</style>\n",
       "<table border=\"1\" class=\"dataframe\">\n",
       "  <thead>\n",
       "    <tr style=\"text-align: right;\">\n",
       "      <th></th>\n",
       "      <th>date</th>\n",
       "      <th>type</th>\n",
       "      <th>registration</th>\n",
       "      <th>operator</th>\n",
       "      <th>fatalities</th>\n",
       "      <th>location</th>\n",
       "      <th>country</th>\n",
       "      <th>cat</th>\n",
       "      <th>year</th>\n",
       "    </tr>\n",
       "  </thead>\n",
       "  <tbody>\n",
       "    <tr>\n",
       "      <th>0</th>\n",
       "      <td>date unk.</td>\n",
       "      <td>Antonov An-12B</td>\n",
       "      <td>T-1206</td>\n",
       "      <td>Indonesian AF</td>\n",
       "      <td>NaN</td>\n",
       "      <td>NaN</td>\n",
       "      <td>Unknown country</td>\n",
       "      <td>U1</td>\n",
       "      <td>unknown</td>\n",
       "    </tr>\n",
       "    <tr>\n",
       "      <th>1</th>\n",
       "      <td>date unk.</td>\n",
       "      <td>Antonov An-12B</td>\n",
       "      <td>T-1204</td>\n",
       "      <td>Indonesian AF</td>\n",
       "      <td>NaN</td>\n",
       "      <td>NaN</td>\n",
       "      <td>Unknown country</td>\n",
       "      <td>U1</td>\n",
       "      <td>unknown</td>\n",
       "    </tr>\n",
       "    <tr>\n",
       "      <th>2</th>\n",
       "      <td>date unk.</td>\n",
       "      <td>Antonov An-12B</td>\n",
       "      <td>T-1201</td>\n",
       "      <td>Indonesian AF</td>\n",
       "      <td>NaN</td>\n",
       "      <td>NaN</td>\n",
       "      <td>Unknown country</td>\n",
       "      <td>U1</td>\n",
       "      <td>unknown</td>\n",
       "    </tr>\n",
       "    <tr>\n",
       "      <th>3</th>\n",
       "      <td>date unk.</td>\n",
       "      <td>Antonov An-12BK</td>\n",
       "      <td>NaN</td>\n",
       "      <td>Soviet AF</td>\n",
       "      <td>NaN</td>\n",
       "      <td>Tiksi Airport (IKS)</td>\n",
       "      <td>Russia</td>\n",
       "      <td>A1</td>\n",
       "      <td>unknown</td>\n",
       "    </tr>\n",
       "    <tr>\n",
       "      <th>4</th>\n",
       "      <td>date unk.</td>\n",
       "      <td>Antonov An-12BP</td>\n",
       "      <td>CCCP-11815</td>\n",
       "      <td>Soviet AF</td>\n",
       "      <td>0</td>\n",
       "      <td>Massawa Airport ...</td>\n",
       "      <td>Eritrea</td>\n",
       "      <td>A1</td>\n",
       "      <td>unknown</td>\n",
       "    </tr>\n",
       "  </tbody>\n",
       "</table>\n",
       "</div>"
      ],
      "text/plain": [
       "        date             type registration       operator fatalities  \\\n",
       "0  date unk.   Antonov An-12B       T-1206  Indonesian AF        NaN   \n",
       "1  date unk.   Antonov An-12B       T-1204  Indonesian AF        NaN   \n",
       "2  date unk.   Antonov An-12B       T-1201  Indonesian AF        NaN   \n",
       "3  date unk.  Antonov An-12BK          NaN      Soviet AF        NaN   \n",
       "4  date unk.  Antonov An-12BP   CCCP-11815      Soviet AF          0   \n",
       "\n",
       "              location          country cat     year  \n",
       "0                  NaN  Unknown country  U1  unknown  \n",
       "1                  NaN  Unknown country  U1  unknown  \n",
       "2                  NaN  Unknown country  U1  unknown  \n",
       "3  Tiksi Airport (IKS)           Russia  A1  unknown  \n",
       "4  Massawa Airport ...          Eritrea  A1  unknown  "
      ]
     },
     "execution_count": 2,
     "metadata": {},
     "output_type": "execute_result"
    }
   ],
   "source": [
    "# loading the dataset\n",
    "df = pd.read_csv('aviation-accident-data-2023-05-16.csv')\n",
    "df.head()"
   ]
  },
  {
   "cell_type": "code",
   "execution_count": null,
   "id": "71fdb35a",
   "metadata": {},
   "outputs": [
    {
     "data": {
      "text/plain": [
       "pandas.core.frame.DataFrame"
      ]
     },
     "execution_count": 3,
     "metadata": {},
     "output_type": "execute_result"
    }
   ],
   "source": [
    "# checking the type of the datset\n",
    "type(df)"
   ]
  },
  {
   "cell_type": "code",
   "execution_count": null,
   "id": "ba37896c",
   "metadata": {},
   "outputs": [
    {
     "name": "stdout",
     "output_type": "stream",
     "text": [
      "<class 'pandas.core.frame.DataFrame'>\n",
      "RangeIndex: 23967 entries, 0 to 23966\n",
      "Data columns (total 9 columns):\n",
      " #   Column        Non-Null Count  Dtype \n",
      "---  ------        --------------  ----- \n",
      " 0   date          23967 non-null  object\n",
      " 1   type          23967 non-null  object\n",
      " 2   registration  22419 non-null  object\n",
      " 3   operator      23963 non-null  object\n",
      " 4   fatalities    20029 non-null  object\n",
      " 5   location      23019 non-null  object\n",
      " 6   country       23967 non-null  object\n",
      " 7   cat           23967 non-null  object\n",
      " 8   year          23967 non-null  object\n",
      "dtypes: object(9)\n",
      "memory usage: 1.6+ MB\n"
     ]
    }
   ],
   "source": [
    "# displays information of the dataset\n",
    "df.info()"
   ]
  },
  {
   "cell_type": "markdown",
   "id": "c36c172d",
   "metadata": {},
   "source": [
    "## Check and remove duplicated values"
   ]
  },
  {
   "cell_type": "code",
   "execution_count": null,
   "id": "f6567855",
   "metadata": {},
   "outputs": [
    {
     "data": {
      "text/html": [
       "<div>\n",
       "<style scoped>\n",
       "    .dataframe tbody tr th:only-of-type {\n",
       "        vertical-align: middle;\n",
       "    }\n",
       "\n",
       "    .dataframe tbody tr th {\n",
       "        vertical-align: top;\n",
       "    }\n",
       "\n",
       "    .dataframe thead th {\n",
       "        text-align: right;\n",
       "    }\n",
       "</style>\n",
       "<table border=\"1\" class=\"dataframe\">\n",
       "  <thead>\n",
       "    <tr style=\"text-align: right;\">\n",
       "      <th></th>\n",
       "      <th>date</th>\n",
       "      <th>type</th>\n",
       "      <th>registration</th>\n",
       "      <th>operator</th>\n",
       "      <th>fatalities</th>\n",
       "      <th>location</th>\n",
       "      <th>country</th>\n",
       "      <th>cat</th>\n",
       "      <th>year</th>\n",
       "    </tr>\n",
       "  </thead>\n",
       "  <tbody>\n",
       "    <tr>\n",
       "      <th>542</th>\n",
       "      <td>13-APR-1940</td>\n",
       "      <td>Junkers Ju-52/3m</td>\n",
       "      <td>NaN</td>\n",
       "      <td>German AF</td>\n",
       "      <td>NaN</td>\n",
       "      <td>Gangsoya, Sogn o...</td>\n",
       "      <td>Norway</td>\n",
       "      <td>A1</td>\n",
       "      <td>1940</td>\n",
       "    </tr>\n",
       "    <tr>\n",
       "      <th>560</th>\n",
       "      <td>29-APR-1940</td>\n",
       "      <td>Junkers Ju-52/3m</td>\n",
       "      <td>NaN</td>\n",
       "      <td>German AF</td>\n",
       "      <td>0</td>\n",
       "      <td>Oslo-Fornebu Air...</td>\n",
       "      <td>Norway</td>\n",
       "      <td>A1</td>\n",
       "      <td>1940</td>\n",
       "    </tr>\n",
       "    <tr>\n",
       "      <th>568</th>\n",
       "      <td>10-MAY-1940</td>\n",
       "      <td>Junkers Ju-52/3m</td>\n",
       "      <td>NaN</td>\n",
       "      <td>German AF</td>\n",
       "      <td>NaN</td>\n",
       "      <td>Waalhaven</td>\n",
       "      <td>Netherlands</td>\n",
       "      <td>A1</td>\n",
       "      <td>1940</td>\n",
       "    </tr>\n",
       "    <tr>\n",
       "      <th>577</th>\n",
       "      <td>10-MAY-1940</td>\n",
       "      <td>Junkers Ju-52/3m</td>\n",
       "      <td>NaN</td>\n",
       "      <td>German AF</td>\n",
       "      <td>NaN</td>\n",
       "      <td>near Den Haag</td>\n",
       "      <td>Netherlands</td>\n",
       "      <td>A1</td>\n",
       "      <td>1940</td>\n",
       "    </tr>\n",
       "    <tr>\n",
       "      <th>579</th>\n",
       "      <td>10-MAY-1940</td>\n",
       "      <td>Junkers Ju-52/3m</td>\n",
       "      <td>NaN</td>\n",
       "      <td>German AF</td>\n",
       "      <td>NaN</td>\n",
       "      <td>Waalhaven</td>\n",
       "      <td>Netherlands</td>\n",
       "      <td>A1</td>\n",
       "      <td>1940</td>\n",
       "    </tr>\n",
       "    <tr>\n",
       "      <th>580</th>\n",
       "      <td>10-MAY-1940</td>\n",
       "      <td>Junkers Ju-52/3m</td>\n",
       "      <td>NaN</td>\n",
       "      <td>German AF</td>\n",
       "      <td>NaN</td>\n",
       "      <td>near Den Haag</td>\n",
       "      <td>Netherlands</td>\n",
       "      <td>A1</td>\n",
       "      <td>1940</td>\n",
       "    </tr>\n",
       "    <tr>\n",
       "      <th>581</th>\n",
       "      <td>10-MAY-1940</td>\n",
       "      <td>Junkers Ju-52/3m</td>\n",
       "      <td>NaN</td>\n",
       "      <td>German AF</td>\n",
       "      <td>NaN</td>\n",
       "      <td>near Den Haag</td>\n",
       "      <td>Netherlands</td>\n",
       "      <td>A1</td>\n",
       "      <td>1940</td>\n",
       "    </tr>\n",
       "    <tr>\n",
       "      <th>582</th>\n",
       "      <td>10-MAY-1940</td>\n",
       "      <td>Junkers Ju-52/3m</td>\n",
       "      <td>NaN</td>\n",
       "      <td>German AF</td>\n",
       "      <td>NaN</td>\n",
       "      <td>near Den Haag</td>\n",
       "      <td>Netherlands</td>\n",
       "      <td>A1</td>\n",
       "      <td>1940</td>\n",
       "    </tr>\n",
       "    <tr>\n",
       "      <th>584</th>\n",
       "      <td>10-MAY-1940</td>\n",
       "      <td>Junkers Ju-52/3m</td>\n",
       "      <td>NaN</td>\n",
       "      <td>German AF</td>\n",
       "      <td>NaN</td>\n",
       "      <td>Waalhaven</td>\n",
       "      <td>Netherlands</td>\n",
       "      <td>A1</td>\n",
       "      <td>1940</td>\n",
       "    </tr>\n",
       "    <tr>\n",
       "      <th>585</th>\n",
       "      <td>10-MAY-1940</td>\n",
       "      <td>Junkers Ju-52/3m</td>\n",
       "      <td>NaN</td>\n",
       "      <td>German AF</td>\n",
       "      <td>NaN</td>\n",
       "      <td>near Den Haag</td>\n",
       "      <td>Netherlands</td>\n",
       "      <td>A1</td>\n",
       "      <td>1940</td>\n",
       "    </tr>\n",
       "    <tr>\n",
       "      <th>587</th>\n",
       "      <td>10-MAY-1940</td>\n",
       "      <td>Junkers Ju-52/3m</td>\n",
       "      <td>NaN</td>\n",
       "      <td>German AF</td>\n",
       "      <td>NaN</td>\n",
       "      <td>near Den Haag</td>\n",
       "      <td>Netherlands</td>\n",
       "      <td>A1</td>\n",
       "      <td>1940</td>\n",
       "    </tr>\n",
       "    <tr>\n",
       "      <th>588</th>\n",
       "      <td>10-MAY-1940</td>\n",
       "      <td>Junkers Ju-52/3m</td>\n",
       "      <td>NaN</td>\n",
       "      <td>German AF</td>\n",
       "      <td>NaN</td>\n",
       "      <td>near Den Haag</td>\n",
       "      <td>Netherlands</td>\n",
       "      <td>A1</td>\n",
       "      <td>1940</td>\n",
       "    </tr>\n",
       "    <tr>\n",
       "      <th>589</th>\n",
       "      <td>10-MAY-1940</td>\n",
       "      <td>Junkers Ju-52/3m</td>\n",
       "      <td>NaN</td>\n",
       "      <td>German AF</td>\n",
       "      <td>NaN</td>\n",
       "      <td>Waalhaven</td>\n",
       "      <td>Netherlands</td>\n",
       "      <td>A1</td>\n",
       "      <td>1940</td>\n",
       "    </tr>\n",
       "    <tr>\n",
       "      <th>590</th>\n",
       "      <td>10-MAY-1940</td>\n",
       "      <td>Junkers Ju-52/3m</td>\n",
       "      <td>NaN</td>\n",
       "      <td>German AF</td>\n",
       "      <td>NaN</td>\n",
       "      <td>Waalhaven</td>\n",
       "      <td>Netherlands</td>\n",
       "      <td>A1</td>\n",
       "      <td>1940</td>\n",
       "    </tr>\n",
       "    <tr>\n",
       "      <th>605</th>\n",
       "      <td>10-MAY-1940</td>\n",
       "      <td>Junkers Ju-52/3m</td>\n",
       "      <td>NaN</td>\n",
       "      <td>German AF</td>\n",
       "      <td>NaN</td>\n",
       "      <td>Waalhaven</td>\n",
       "      <td>Netherlands</td>\n",
       "      <td>A1</td>\n",
       "      <td>1940</td>\n",
       "    </tr>\n",
       "    <tr>\n",
       "      <th>607</th>\n",
       "      <td>10-MAY-1940</td>\n",
       "      <td>Junkers Ju-52/3m</td>\n",
       "      <td>NaN</td>\n",
       "      <td>German AF</td>\n",
       "      <td>NaN</td>\n",
       "      <td>near Den Haag</td>\n",
       "      <td>Netherlands</td>\n",
       "      <td>A1</td>\n",
       "      <td>1940</td>\n",
       "    </tr>\n",
       "    <tr>\n",
       "      <th>608</th>\n",
       "      <td>10-MAY-1940</td>\n",
       "      <td>Junkers Ju-52/3m</td>\n",
       "      <td>NaN</td>\n",
       "      <td>German AF</td>\n",
       "      <td>NaN</td>\n",
       "      <td>near Rotterdam</td>\n",
       "      <td>Netherlands</td>\n",
       "      <td>A1</td>\n",
       "      <td>1940</td>\n",
       "    </tr>\n",
       "    <tr>\n",
       "      <th>609</th>\n",
       "      <td>10-MAY-1940</td>\n",
       "      <td>Junkers Ju-52/3m</td>\n",
       "      <td>NaN</td>\n",
       "      <td>German AF</td>\n",
       "      <td>NaN</td>\n",
       "      <td>Waalhaven</td>\n",
       "      <td>Netherlands</td>\n",
       "      <td>A1</td>\n",
       "      <td>1940</td>\n",
       "    </tr>\n",
       "    <tr>\n",
       "      <th>611</th>\n",
       "      <td>10-MAY-1940</td>\n",
       "      <td>Junkers Ju-52/3m</td>\n",
       "      <td>NaN</td>\n",
       "      <td>German AF</td>\n",
       "      <td>NaN</td>\n",
       "      <td>Waalhaven</td>\n",
       "      <td>Netherlands</td>\n",
       "      <td>A1</td>\n",
       "      <td>1940</td>\n",
       "    </tr>\n",
       "    <tr>\n",
       "      <th>612</th>\n",
       "      <td>10-MAY-1940</td>\n",
       "      <td>Junkers Ju-52/3m</td>\n",
       "      <td>NaN</td>\n",
       "      <td>German AF</td>\n",
       "      <td>NaN</td>\n",
       "      <td>near Den Haag</td>\n",
       "      <td>Netherlands</td>\n",
       "      <td>A1</td>\n",
       "      <td>1940</td>\n",
       "    </tr>\n",
       "  </tbody>\n",
       "</table>\n",
       "</div>"
      ],
      "text/plain": [
       "            date              type registration   operator fatalities  \\\n",
       "542  13-APR-1940  Junkers Ju-52/3m          NaN  German AF        NaN   \n",
       "560  29-APR-1940  Junkers Ju-52/3m          NaN  German AF          0   \n",
       "568  10-MAY-1940  Junkers Ju-52/3m          NaN  German AF        NaN   \n",
       "577  10-MAY-1940  Junkers Ju-52/3m          NaN  German AF        NaN   \n",
       "579  10-MAY-1940  Junkers Ju-52/3m          NaN  German AF        NaN   \n",
       "580  10-MAY-1940  Junkers Ju-52/3m          NaN  German AF        NaN   \n",
       "581  10-MAY-1940  Junkers Ju-52/3m          NaN  German AF        NaN   \n",
       "582  10-MAY-1940  Junkers Ju-52/3m          NaN  German AF        NaN   \n",
       "584  10-MAY-1940  Junkers Ju-52/3m          NaN  German AF        NaN   \n",
       "585  10-MAY-1940  Junkers Ju-52/3m          NaN  German AF        NaN   \n",
       "587  10-MAY-1940  Junkers Ju-52/3m          NaN  German AF        NaN   \n",
       "588  10-MAY-1940  Junkers Ju-52/3m          NaN  German AF        NaN   \n",
       "589  10-MAY-1940  Junkers Ju-52/3m          NaN  German AF        NaN   \n",
       "590  10-MAY-1940  Junkers Ju-52/3m          NaN  German AF        NaN   \n",
       "605  10-MAY-1940  Junkers Ju-52/3m          NaN  German AF        NaN   \n",
       "607  10-MAY-1940  Junkers Ju-52/3m          NaN  German AF        NaN   \n",
       "608  10-MAY-1940  Junkers Ju-52/3m          NaN  German AF        NaN   \n",
       "609  10-MAY-1940  Junkers Ju-52/3m          NaN  German AF        NaN   \n",
       "611  10-MAY-1940  Junkers Ju-52/3m          NaN  German AF        NaN   \n",
       "612  10-MAY-1940  Junkers Ju-52/3m          NaN  German AF        NaN   \n",
       "\n",
       "                location      country cat  year  \n",
       "542  Gangsoya, Sogn o...       Norway  A1  1940  \n",
       "560  Oslo-Fornebu Air...       Norway  A1  1940  \n",
       "568            Waalhaven  Netherlands  A1  1940  \n",
       "577        near Den Haag  Netherlands  A1  1940  \n",
       "579            Waalhaven  Netherlands  A1  1940  \n",
       "580        near Den Haag  Netherlands  A1  1940  \n",
       "581        near Den Haag  Netherlands  A1  1940  \n",
       "582        near Den Haag  Netherlands  A1  1940  \n",
       "584            Waalhaven  Netherlands  A1  1940  \n",
       "585        near Den Haag  Netherlands  A1  1940  \n",
       "587        near Den Haag  Netherlands  A1  1940  \n",
       "588        near Den Haag  Netherlands  A1  1940  \n",
       "589            Waalhaven  Netherlands  A1  1940  \n",
       "590            Waalhaven  Netherlands  A1  1940  \n",
       "605            Waalhaven  Netherlands  A1  1940  \n",
       "607        near Den Haag  Netherlands  A1  1940  \n",
       "608       near Rotterdam  Netherlands  A1  1940  \n",
       "609            Waalhaven  Netherlands  A1  1940  \n",
       "611            Waalhaven  Netherlands  A1  1940  \n",
       "612        near Den Haag  Netherlands  A1  1940  "
      ]
     },
     "execution_count": 10,
     "metadata": {},
     "output_type": "execute_result"
    }
   ],
   "source": [
    "# checks the first 20 duplicated values\n",
    "df[df.duplicated()].head(20)"
   ]
  },
  {
   "cell_type": "code",
   "execution_count": null,
   "id": "e8c264e1",
   "metadata": {},
   "outputs": [
    {
     "data": {
      "text/plain": [
       "False    23852\n",
       "True       115\n",
       "Name: count, dtype: int64"
      ]
     },
     "execution_count": 11,
     "metadata": {},
     "output_type": "execute_result"
    }
   ],
   "source": [
    "# this checks the number of duplicated values(True) and non-duplicates(False)\n",
    "df.duplicated().value_counts()"
   ]
  },
  {
   "cell_type": "code",
   "execution_count": null,
   "id": "087aa4af",
   "metadata": {},
   "outputs": [],
   "source": [
    "# Dropping all duplicated values\n",
    "df = df.drop_duplicates()"
   ]
  },
  {
   "cell_type": "code",
   "execution_count": null,
   "id": "9e433838",
   "metadata": {},
   "outputs": [
    {
     "data": {
      "text/plain": [
       "False    23852\n",
       "Name: count, dtype: int64"
      ]
     },
     "execution_count": 13,
     "metadata": {},
     "output_type": "execute_result"
    }
   ],
   "source": [
    "# confirming all duplicates have been dropped\n",
    "df.duplicated().value_counts()"
   ]
  },
  {
   "cell_type": "markdown",
   "id": "4607f3e6",
   "metadata": {},
   "source": [
    "#### Check for missing values"
   ]
  },
  {
   "cell_type": "code",
   "execution_count": null,
   "id": "8b767537",
   "metadata": {},
   "outputs": [
    {
     "data": {
      "text/plain": [
       "date               0\n",
       "type               0\n",
       "registration    1434\n",
       "operator           4\n",
       "fatalities      3833\n",
       "location         932\n",
       "country            0\n",
       "cat                0\n",
       "year               0\n",
       "dtype: int64"
      ]
     },
     "execution_count": 14,
     "metadata": {},
     "output_type": "execute_result"
    }
   ],
   "source": [
    "# Displays all columns and which of them have missing values.\n",
    "df.isna().sum()"
   ]
  },
  {
   "cell_type": "markdown",
   "id": "b4482072",
   "metadata": {},
   "source": [
    "### Check the present values percentage"
   ]
  },
  {
   "cell_type": "markdown",
   "id": "fbde84e3",
   "metadata": {},
   "source": [
    "In this section, we are checking for the percentage of present values in each column, so that we can determine if they could be filled or they are to be dropped."
   ]
  },
  {
   "cell_type": "code",
   "execution_count": 77,
   "id": "b0378876",
   "metadata": {},
   "outputs": [
    {
     "data": {
      "text/plain": [
       "93.54111903867818"
      ]
     },
     "execution_count": 77,
     "metadata": {},
     "output_type": "execute_result"
    }
   ],
   "source": [
    "percentage_registration = 22419/23967 * 100\n",
    "percentage_registration"
   ]
  },
  {
   "cell_type": "code",
   "execution_count": 78,
   "id": "c4a00dfa",
   "metadata": {},
   "outputs": [
    {
     "data": {
      "text/plain": [
       "99.98331038511287"
      ]
     },
     "execution_count": 78,
     "metadata": {},
     "output_type": "execute_result"
    }
   ],
   "source": [
    "percentage_operator = 23963/23967 * 100\n",
    "percentage_operator"
   ]
  },
  {
   "cell_type": "code",
   "execution_count": 79,
   "id": "3ec1717f",
   "metadata": {},
   "outputs": [
    {
     "data": {
      "text/plain": [
       "83.56907414361415"
      ]
     },
     "execution_count": 79,
     "metadata": {},
     "output_type": "execute_result"
    }
   ],
   "source": [
    "percentage_fatalities = 20029/23967 * 100\n",
    "percentage_fatalities"
   ]
  },
  {
   "cell_type": "code",
   "execution_count": 80,
   "id": "3422b74f",
   "metadata": {},
   "outputs": [
    {
     "data": {
      "text/plain": [
       "96.04456127174865"
      ]
     },
     "execution_count": 80,
     "metadata": {},
     "output_type": "execute_result"
    }
   ],
   "source": [
    "percentage_location = 23019/23967 * 100\n",
    "percentage_location"
   ]
  },
  {
   "cell_type": "code",
   "execution_count": 81,
   "id": "6d4e1df3",
   "metadata": {},
   "outputs": [
    {
     "data": {
      "text/plain": [
       "fatalities\n",
       "0      14632\n",
       "2       1140\n",
       "1       1023\n",
       "3        995\n",
       "4        892\n",
       "       ...  \n",
       "134        1\n",
       "256        1\n",
       "290        1\n",
       "259        1\n",
       "224        1\n",
       "Name: count, Length: 197, dtype: int64"
      ]
     },
     "execution_count": 81,
     "metadata": {},
     "output_type": "execute_result"
    }
   ],
   "source": [
    "df['fatalities'].value_counts()"
   ]
  },
  {
   "cell_type": "code",
   "execution_count": 82,
   "id": "6a6c15e5",
   "metadata": {},
   "outputs": [],
   "source": [
    "# converting strings to numbers\n",
    "def stringtonum(x):\n",
    "    if pd.isna(x):\n",
    "        return None\n",
    "    x = str(x)\n",
    "    if '+' in x:\n",
    "        return int(x.split('+')[0])\n",
    "    else:\n",
    "        return int(float(x))"
   ]
  },
  {
   "cell_type": "code",
   "execution_count": 83,
   "id": "561b774e",
   "metadata": {},
   "outputs": [],
   "source": [
    "df['fatalities'] = df['fatalities'].apply(stringtonum)"
   ]
  },
  {
   "cell_type": "code",
   "execution_count": null,
   "id": "03a28d2b",
   "metadata": {},
   "outputs": [
    {
     "data": {
      "image/png": "[encoded data removed]",
      "text/plain": [
       "<Figure size 640x480 with 1 Axes>"
      ]
     },
     "metadata": {},
     "output_type": "display_data"
    }
   ],
   "source": [
    "# fatalities histogram to check if it is symmetrical or skewed\n",
    "plt.hist(df['fatalities'], bins=20)\n",
    "plt.title('Fatalities in aviation accidents')\n",
    "plt.xlabel('No of fatalities')\n",
    "plt.ylabel('frequency')\n",
    "plt.show()"
   ]
  },
  {
   "cell_type": "code",
   "execution_count": null,
   "id": "b4d28f54",
   "metadata": {},
   "outputs": [
    {
     "data": {
      "text/plain": [
       "fatalities\n",
       "0      14632\n",
       "2       1140\n",
       "1       1023\n",
       "3        995\n",
       "4        892\n",
       "       ...  \n",
       "134        1\n",
       "256        1\n",
       "290        1\n",
       "259        1\n",
       "224        1\n",
       "Name: count, Length: 197, dtype: int64"
      ]
     },
     "execution_count": 85,
     "metadata": {},
     "output_type": "execute_result"
    }
   ],
   "source": [
    "# Displays unique items in the fatalities column\n",
    "df['fatalities'].value_counts()"
   ]
  },
  {
   "cell_type": "code",
   "execution_count": null,
   "id": "6fdc6598",
   "metadata": {},
   "outputs": [
    {
     "data": {
      "text/plain": [
       "0.0"
      ]
     },
     "execution_count": 86,
     "metadata": {},
     "output_type": "execute_result"
    }
   ],
   "source": [
    "# calculates and stores the median in the fatalities_median variable\n",
    "fatalities_median = df['fatalities'].median()\n",
    "fatalities_median"
   ]
  },
  {
   "cell_type": "code",
   "execution_count": null,
   "id": "7d12c28c",
   "metadata": {},
   "outputs": [],
   "source": [
    "# replaces all missing values with the median value\n",
    "df['fatalities'] = df['fatalities'].fillna(fatalities_median)"
   ]
  },
  {
   "cell_type": "code",
   "execution_count": null,
   "id": "4ed97f4f",
   "metadata": {},
   "outputs": [
    {
     "data": {
      "text/plain": [
       "date            0\n",
       "type            0\n",
       "registration    0\n",
       "operator        0\n",
       "fatalities      0\n",
       "location        0\n",
       "country         0\n",
       "cat             0\n",
       "year            0\n",
       "dtype: int64"
      ]
     },
     "execution_count": 88,
     "metadata": {},
     "output_type": "execute_result"
    }
   ],
   "source": [
    "# confirms that fatalities has been filled.\n",
    "df.isna().sum()"
   ]
  },
  {
   "cell_type": "code",
   "execution_count": null,
   "id": "431110a2",
   "metadata": {},
   "outputs": [
    {
     "data": {
      "text/plain": [
       "registration\n",
       "LZ-...     1447\n",
       "-            11\n",
       "unreg.        6\n",
       "39            5\n",
       "48            4\n",
       "           ... \n",
       "52-5881       1\n",
       "HJ250         1\n",
       "11073         1\n",
       "45-879        1\n",
       "D-CGFQ        1\n",
       "Name: count, Length: 21962, dtype: int64"
      ]
     },
     "execution_count": 89,
     "metadata": {},
     "output_type": "execute_result"
    }
   ],
   "source": [
    "# Displays all unique values in the registration column\n",
    "df['registration'].value_counts()"
   ]
  },
  {
   "cell_type": "code",
   "execution_count": null,
   "id": "ec02c0ff",
   "metadata": {},
   "outputs": [
    {
     "data": {
      "text/plain": [
       "'LZ-...'"
      ]
     },
     "execution_count": 131,
     "metadata": {},
     "output_type": "execute_result"
    }
   ],
   "source": [
    "# calculates and stores the mode in reg_mode variable\n",
    "reg_mode = df['registration'].mode()[0]\n",
    "reg_mode"
   ]
  },
  {
   "cell_type": "code",
   "execution_count": null,
   "id": "b3067dfa",
   "metadata": {},
   "outputs": [],
   "source": [
    "# replaces all missing values with the mode\n",
    "df['registration'] = df['registration'].fillna(reg_mode)"
   ]
  },
  {
   "cell_type": "code",
   "execution_count": null,
   "id": "bf12045c",
   "metadata": {},
   "outputs": [
    {
     "data": {
      "text/plain": [
       "date            0\n",
       "type            0\n",
       "registration    0\n",
       "operator        0\n",
       "fatalities      0\n",
       "location        0\n",
       "country         0\n",
       "cat             0\n",
       "year            0\n",
       "dtype: int64"
      ]
     },
     "execution_count": 93,
     "metadata": {},
     "output_type": "execute_result"
    }
   ],
   "source": [
    "# confirms the missing values have been filled\n",
    "df.isna().sum()"
   ]
  },
  {
   "cell_type": "code",
   "execution_count": null,
   "id": "ece584d6",
   "metadata": {},
   "outputs": [
    {
     "data": {
      "text/plain": [
       "location\n",
       "unknown                1204\n",
       "Havana-JosÃ© Mar...     105\n",
       "Miami Internatio...      71\n",
       "Beirut Internati...      48\n",
       "New York-John F....      44\n",
       "                       ... \n",
       "near Damroh               1\n",
       "Puerto Columbia           1\n",
       "Moskva-Khodynka ...       1\n",
       "near Byelaya Noch         1\n",
       "Hohn Air Base             1\n",
       "Name: count, Length: 14608, dtype: int64"
      ]
     },
     "execution_count": 94,
     "metadata": {},
     "output_type": "execute_result"
    }
   ],
   "source": [
    "# displays unique values in the location column\n",
    "df['location'].value_counts()"
   ]
  },
  {
   "cell_type": "code",
   "execution_count": null,
   "id": "02687ac5",
   "metadata": {},
   "outputs": [
    {
     "data": {
      "text/plain": [
       "'unknown'"
      ]
     },
     "execution_count": 96,
     "metadata": {},
     "output_type": "execute_result"
    }
   ],
   "source": [
    "# calculates and stores the mode in the location_mode variable\n",
    "location_mode = df['location'].mode()[0]\n",
    "location_mode"
   ]
  },
  {
   "cell_type": "code",
   "execution_count": null,
   "id": "2c40bc13",
   "metadata": {},
   "outputs": [],
   "source": [
    "# replaces the missing values with the mode\n",
    "df['location'] = df['location'].fillna(location_mode)"
   ]
  },
  {
   "cell_type": "code",
   "execution_count": null,
   "id": "7af98cd7",
   "metadata": {},
   "outputs": [
    {
     "data": {
      "text/plain": [
       "date            0\n",
       "type            0\n",
       "registration    0\n",
       "operator        0\n",
       "fatalities      0\n",
       "location        0\n",
       "country         0\n",
       "cat             0\n",
       "year            0\n",
       "dtype: int64"
      ]
     },
     "execution_count": 98,
     "metadata": {},
     "output_type": "execute_result"
    }
   ],
   "source": [
    "# confirms missing values are filled\n",
    "df.isna().sum()"
   ]
  },
  {
   "cell_type": "code",
   "execution_count": null,
   "id": "fc56027a",
   "metadata": {},
   "outputs": [
    {
     "data": {
      "text/plain": [
       "operator\n",
       "USAAF                          2608\n",
       "USAF                           1118\n",
       "RAF                             920\n",
       "US Navy                         745\n",
       "German AF                       411\n",
       "                               ... \n",
       "BAFIN                             1\n",
       "Dow Chemical Company              1\n",
       "Aero Bellavista                   1\n",
       "Pacific Missionary Aviation       1\n",
       "Bar Aviation                      1\n",
       "Name: count, Length: 6017, dtype: int64"
      ]
     },
     "execution_count": 99,
     "metadata": {},
     "output_type": "execute_result"
    }
   ],
   "source": [
    "# displays unique values in the operator column\n",
    "df['operator'].value_counts()"
   ]
  },
  {
   "cell_type": "code",
   "execution_count": null,
   "id": "4eda03fc",
   "metadata": {},
   "outputs": [
    {
     "data": {
      "text/plain": [
       "'USAAF'"
      ]
     },
     "execution_count": 101,
     "metadata": {},
     "output_type": "execute_result"
    }
   ],
   "source": [
    "# calculates and stores the mode in the operator_mode variable\n",
    "operator_mode = df['operator'].mode()[0]\n",
    "operator_mode"
   ]
  },
  {
   "cell_type": "code",
   "execution_count": null,
   "id": "38cd440b",
   "metadata": {},
   "outputs": [],
   "source": [
    "# fills the missing values with the mode\n",
    "df['operator'] = df['operator'].fillna(operator_mode)"
   ]
  },
  {
   "cell_type": "code",
   "execution_count": null,
   "id": "e41474ea",
   "metadata": {},
   "outputs": [
    {
     "data": {
      "text/plain": [
       "date            0\n",
       "type            0\n",
       "registration    0\n",
       "operator        0\n",
       "fatalities      0\n",
       "location        0\n",
       "country         0\n",
       "cat             0\n",
       "year            0\n",
       "dtype: int64"
      ]
     },
     "execution_count": 105,
     "metadata": {},
     "output_type": "execute_result"
    }
   ],
   "source": [
    "# confirms all missing values have been replaced\n",
    "df.isna().sum()"
   ]
  },
  {
   "cell_type": "code",
   "execution_count": null,
   "id": "19aceb81",
   "metadata": {},
   "outputs": [],
   "source": [
    "# saves the clean dataset.\n",
    "df.to_csv('clean-aviation-accident-data.csv', index=False)"
   ]
  },
  {
   "cell_type": "markdown",
   "id": "d520636f",
   "metadata": {},
   "source": [
    "# Data Analysis"
   ]
  },
  {
   "cell_type": "markdown",
   "id": "9e253e68",
   "metadata": {},
   "source": [
    "This analysis tells us which aircraft type has the highest fatality rate. By identifying this, this report gives the company the necessary data for the company to make the safest decision that will benefit both the comapny and he clients."
   ]
  },
  {
   "cell_type": "code",
   "execution_count": null,
   "id": "42fb00d0",
   "metadata": {},
   "outputs": [
    {
     "data": {
      "image/png": "[encoded data removed]",
      "text/plain": [
       "<Figure size 640x480 with 1 Axes>"
      ]
     },
     "metadata": {},
     "output_type": "display_data"
    }
   ],
   "source": [
    "# groups all fatalities by aircraft type and sums all fatalities for each type\n",
    "aircrafttype_accidents= df.groupby('type')['fatalities'].sum().reset_index()\n",
    "low_accident = aircrafttype_accidents.sort_values(by='fatalities', ascending=False).head()\n",
    "\n",
    "\n",
    "# use seaborn to plot \n",
    "sns.barplot(\n",
    "    x = 'fatalities',\n",
    "    y = 'type',\n",
    "    data= low_accident\n",
    ")\n",
    "plt.title('Aircraft type by fatality rate')\n",
    "plt.xticks(rotation = 45)\n",
    "plt.show()"
   ]
  }
 ],
 "metadata": {
  "kernelspec": {
   "display_name": "base",
   "language": "python",
   "name": "python3"
  },
  "language_info": {
   "codemirror_mode": {
    "name": "ipython",
    "version": 3
   },
   "file_extension": ".py",
   "mimetype": "text/x-python",
   "name": "python",
   "nbconvert_exporter": "python",
   "pygments_lexer": "ipython3",
   "version": "3.11.7"
  }
 },
 "nbformat": 4,
 "nbformat_minor": 5
}
